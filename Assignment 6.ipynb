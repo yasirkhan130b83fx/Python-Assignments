{
 "cells": [
  {
   "cell_type": "code",
   "execution_count": null,
   "metadata": {},
   "outputs": [],
   "source": [
    "#1\n",
    "#Object Oriented Programming Language is language that supports the Object Oriented Programming (OOP) paradigm.\n",
    "#Python is a multi paradigm language it supports both object and function approches.\n",
    "\n",
    "#2\n",
    "#In Object oriented programing the programers define the data type of the data structure and also the functions which\n",
    "#can be applied to that data stucture. This data structure is called an object and it includes both its properties/\n",
    "#attribues and methods. In OOP the objects interact with other objects to solve a problem.\n",
    "#Modularity: By breaking th e problem into smaller objects it is easier to develop complex software and easier to\n",
    "#debug since the problem can be easily identify by it's object.\n",
    "#Reusability: By creating a class for similar objects code can be reused and through inheritance the parent properties \n",
    "#can be reused by child object.\n",
    "#Flexibility: Through polymorphism a single function can be used to perform different tasks with the help of method\n",
    "# overloading and overriding.\n",
    "#Effective Problem solving: By using the OOP approach complex problems can be made simpler by dividing them into smaller\n",
    "#problems.\n",
    "\n",
    "#3\n",
    "# A funtion is reusable block of code that can be called to perform a task, but it is not defined inside a class. A method \n",
    "# is also reusable block of code like a function, but it is defined inside a class, it has access to all properties of\n",
    "# the perticular class it is defined inside and it can be called through a instance of the object.\n",
    "\n"
   ]
  }
 ],
 "metadata": {
  "kernelspec": {
   "display_name": "Python 3",
   "language": "python",
   "name": "python3"
  },
  "language_info": {
   "codemirror_mode": {
    "name": "ipython",
    "version": 3
   },
   "file_extension": ".py",
   "mimetype": "text/x-python",
   "name": "python",
   "nbconvert_exporter": "python",
   "pygments_lexer": "ipython3",
   "version": "3.7.4"
  }
 },
 "nbformat": 4,
 "nbformat_minor": 2
}
