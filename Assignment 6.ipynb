{
 "cells": [
  {
   "cell_type": "code",
   "execution_count": 1,
   "metadata": {},
   "outputs": [],
   "source": [
    "#1\n",
    "#Object Oriented Programming Language is language that supports the Object Oriented Programming (OOP) paradigm.\n",
    "#Python is a multi paradigm language it supports both object and function approches.\n",
    "\n",
    "#2\n",
    "#In Object oriented programing the programers define the data type of the data structure and also the functions which\n",
    "#can be applied to that data stucture. This data structure is called an object and it includes both its properties/\n",
    "#attribues and methods. In OOP the objects interact with other objects to solve a problem.\n",
    "#Modularity: By breaking th e problem into smaller objects it is easier to develop complex software and easier to\n",
    "#debug since the problem can be easily identify by it's object.\n",
    "#Reusability: By creating a class for similar objects code can be reused and through inheritance the parent properties \n",
    "#can be reused by child object.\n",
    "#Flexibility: Through polymorphism a single function can be used to perform different tasks with the help of method\n",
    "# overloading and overriding.\n",
    "#Effective Problem solving: By using the OOP approach complex problems can be made simpler by dividing them into smaller\n",
    "#problems.\n",
    "\n",
    "#3\n",
    "# A funtion is reusable block of code that can be called to perform a task, but it is not defined inside a class. A method \n",
    "# is also reusable block of code like a function, but it is defined inside a class, it has access to all properties of\n",
    "# the perticular class it is defined inside and it can be called through a instance of the object.\n",
    "\n",
    "#4\n",
    "#Class: It is a blueprint of an object. A class defines the structure of an object, it's attributes and behavior.\n",
    "#Object: In OOP an object represents a real world thing, it can be a cobination of variables, functions and data structures.\n",
    "# It represents a particular instance of a class\n",
    "#Attribute: The attributes or properties of an object are variables that represent it's information.\n",
    "#Behavior: The behavior of an object is defined by it's methods which perform the functions of object\n"
   ]
  },
  {
   "cell_type": "code",
   "execution_count": 22,
   "metadata": {},
   "outputs": [
    {
     "name": "stdout",
     "output_type": "stream",
     "text": [
      "Model: SE 2.0 Sd4 auto 5d, Color: Red, Name: Land Rover Discovery SUV, Speed: 121 mph, Year: 2016\n",
      "Model: M135i xDrive Sport Automatic 5d, Color: White, Name: BMW 1-Series Hatchback, Speed: 155 mph, Year: 2019\n",
      "Model: 1.0 TFSI SE 3d, Color: Red, Name: Audi A1 Hatchback, Speed: 116 mph, Year: 2015\n",
      "Model: 1.0 VTEC Turbo S 5d, Color: Blue, Name: Honda Civic Hatchback, Speed: 126 mph, Year: 2018\n",
      "Model: A 180 SE 5d, Color: Red, Name: Mercedes-Benz A-Class Hatchback, Speed: 134 mph, Year: 2018\n",
      "Model: 1.0 TFSI SE 3d, Color: Black, Name: Audi A1 Hatchback, Speed: 116 mph, Year: 2015\n",
      "Model: A 180 SE 5d, Color: Red, Name: Mercedes-Benz A-Class Hatchback, Speed: 134 mph, Year: 2019\n"
     ]
    }
   ],
   "source": [
    "#5\n",
    "class Car():\n",
    "    def __init__(self, model, color, name, speed, year):\n",
    "        self.model = model\n",
    "        self.color = color\n",
    "        self.name = name\n",
    "        self.speed = speed\n",
    "        self.year = year\n",
    "    def info(self):\n",
    "        print(\"Model: \" + self.model+\", Color: \" + self.color+\", Name: \" + self.name+\", Speed: \" + \n",
    "              self.speed+\", Year: \" + str(self.year))\n",
    "    def change_color(self, new_color):\n",
    "        self.color = new_color\n",
    "    def update_year(self, new_year):\n",
    "        self.year = new_year\n",
    "        \n",
    "c1 = Car(\"SE 2.0 Sd4 auto 5d\", \"Red\", \"Land Rover Discovery SUV\", \"121 mph\", 2016)\n",
    "c2 = Car(\"M135i xDrive Sport Automatic 5d\", \"White\", \"BMW 1-Series Hatchback\", \"155 mph\", 2019)\n",
    "c3 = Car(\"1.0 TFSI SE 3d\", \"Red\", \"Audi A1 Hatchback\", \"116 mph\", 2015)\n",
    "c4 = Car(\"1.0 VTEC Turbo S 5d\", \"Blue\", \"Honda Civic Hatchback\", \"126 mph\", 2018)\n",
    "c5 = Car(\"A 180 SE 5d\", \"Red\", \"Mercedes-Benz A-Class Hatchback\", \"134 mph\", 2018)\n",
    "\n",
    "c1.info()\n",
    "c2.info()\n",
    "c3.info()\n",
    "c4.info()\n",
    "c5.info()\n",
    "\n",
    "c3.change_color(\"Black\")\n",
    "c3.info()\n",
    "\n",
    "c5.update_year(2019)\n",
    "c5.info()"
   ]
  }
 ],
 "metadata": {
  "kernelspec": {
   "display_name": "Python 3",
   "language": "python",
   "name": "python3"
  },
  "language_info": {
   "codemirror_mode": {
    "name": "ipython",
    "version": 3
   },
   "file_extension": ".py",
   "mimetype": "text/x-python",
   "name": "python",
   "nbconvert_exporter": "python",
   "pygments_lexer": "ipython3",
   "version": "3.7.4"
  }
 },
 "nbformat": 4,
 "nbformat_minor": 2
}
