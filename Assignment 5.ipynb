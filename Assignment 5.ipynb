{
 "cells": [
  {
   "cell_type": "code",
   "execution_count": 6,
   "metadata": {},
   "outputs": [
    {
     "name": "stdout",
     "output_type": "stream",
     "text": [
      "Plese, enter a non-negative integer to calculate it's factorial: 4\n",
      "24\n"
     ]
    }
   ],
   "source": [
    "#1\n",
    "def factorial(n):\n",
    "    if n > 1:\n",
    "        return (n * factorial(n-1))\n",
    "    elif n == 1:\n",
    "        return 1\n",
    "    else:\n",
    "        return \"Invalid Ingeter\"\n",
    "    \n",
    "print(str(factorial(int(input(\"Plese, enter a non-negative integer to calculate it's factorial: \")))))"
   ]
  },
  {
   "cell_type": "code",
   "execution_count": 17,
   "metadata": {},
   "outputs": [
    {
     "name": "stdout",
     "output_type": "stream",
     "text": [
      "Plese, enter a string: aHGgsGGhjj\n",
      "a\n",
      "H\n",
      "G\n",
      "g\n",
      "s\n",
      "G\n",
      "G\n",
      "h\n",
      "j\n",
      "j\n",
      "Upper-case characters: 4\n",
      "Lower-case characters: 6\n"
     ]
    }
   ],
   "source": [
    "#2\n",
    "def check_upper_and_lower_case(s):\n",
    "    upper = 0\n",
    "    lower = 0\n",
    "    for x in list(s):\n",
    "        print(x)\n",
    "        if x.isupper():\n",
    "            upper += 1\n",
    "        elif x.islower():\n",
    "            lower += 1\n",
    "    print(\"Upper-case characters: \" + str(upper))\n",
    "    print(\"Lower-case characters: \" + str(lower))\n",
    "    \n",
    "check_upper_and_lower_case(input(\"Plese, enter a string: \"))\n",
    "    "
   ]
  },
  {
   "cell_type": "code",
   "execution_count": 22,
   "metadata": {},
   "outputs": [
    {
     "name": "stdout",
     "output_type": "stream",
     "text": [
      "Even values from the given list are:\n",
      "4\n",
      "6\n",
      "8\n",
      "2\n",
      "6\n",
      "0\n",
      "2\n",
      "4\n"
     ]
    }
   ],
   "source": [
    "#3\n",
    "numbers = [4,1,3,6,8,2,7,1,6,0,7,3,2,4,7,9,5,3]\n",
    "\n",
    "def even_num(l):\n",
    "    for x in l:\n",
    "        if(x % 2 == 0):\n",
    "            print(str(x))\n",
    "            \n",
    "print(\"Even values from the given list are:\")\n",
    "even_num(numbers)"
   ]
  },
  {
   "cell_type": "code",
   "execution_count": 25,
   "metadata": {},
   "outputs": [
    {
     "name": "stdout",
     "output_type": "stream",
     "text": [
      "Plese, enter a string: mom\n",
      "It is a palindrome!\n"
     ]
    }
   ],
   "source": [
    "#4\n",
    "def palindrome_check(s):\n",
    "    if (\"\".join(reversed(s)) == s):\n",
    "        print(\"It is a palindrome!\")\n",
    "    else:\n",
    "        print(\"It is a palindrome!\")\n",
    "        \n",
    "palindrome_check(input(\"Plese, enter a string: \"))"
   ]
  },
  {
   "cell_type": "code",
   "execution_count": 44,
   "metadata": {},
   "outputs": [
    {
     "name": "stdout",
     "output_type": "stream",
     "text": [
      "Plese, enter a number: 97\n",
      "It is a prime number!\n"
     ]
    }
   ],
   "source": [
    "#5\n",
    "import math\n",
    "def prime_number(n):\n",
    "    if (n == 1):\n",
    "        return False\n",
    "    elif (n == 2):\n",
    "        return True\n",
    "    for i in list(range(2, math.ceil(math.sqrt(n)) + 1, 1)):\n",
    "        if (n % i == 0):\n",
    "            return False\n",
    "    return True\n",
    "\n",
    "if (prime_number(int(input(\"Plese, enter a number: \")))):\n",
    "    print(\"It is a prime number!\")\n",
    "else:\n",
    "    print(\"It is not a prime number!\")"
   ]
  },
  {
   "cell_type": "code",
   "execution_count": 46,
   "metadata": {},
   "outputs": [
    {
     "name": "stdout",
     "output_type": "stream",
     "text": [
      "The items are: ('Gallon of milk', 'Carton of eggs', 'Cheese block', 'Yogurt', 'Apples', 'Bananas', 'Carrots', 'Tomatoes', 'Potatoes', 'Broccoli', 'Chicken breast', 'Fresh or frozen fish', 'Dry pasta', 'Brown rice', 'Couscous', 'Tomato sauce', 'Peanut butter', 'Granola bars', 'Nuts', 'Dried or canned beans')\n"
     ]
    }
   ],
   "source": [
    "#6\n",
    "user_shopping_list = [\"Gallon of milk\",\"Carton of eggs\",\"Cheese block\",\"Yogurt\",\"Apples\",\"Bananas\",\"Carrots\",\n",
    "    \"Tomatoes\",\"Potatoes\",\"Broccoli\",\"Chicken breast\",\"Fresh or frozen fish\",\"Dry pasta\",\"Brown rice\",\"Couscous\",\n",
    "    \"Tomato sauce\",\"Peanut butter\",\"Granola bars\",\"Nuts\",\"Dried or canned beans\"]\n",
    "\n",
    "def print_all_items(*items):\n",
    "    print(\"The items are: \", end = \"\")\n",
    "    print(items)\n",
    "    \n",
    "print_all_items(*user_shopping_list) #by using (**) unpack operator in Python"
   ]
  }
 ],
 "metadata": {
  "kernelspec": {
   "display_name": "Python 3",
   "language": "python",
   "name": "python3"
  },
  "language_info": {
   "codemirror_mode": {
    "name": "ipython",
    "version": 3
   },
   "file_extension": ".py",
   "mimetype": "text/x-python",
   "name": "python",
   "nbconvert_exporter": "python",
   "pygments_lexer": "ipython3",
   "version": "3.7.4"
  }
 },
 "nbformat": 4,
 "nbformat_minor": 2
}
