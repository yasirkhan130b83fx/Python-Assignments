{
 "cells": [
  {
   "cell_type": "code",
   "execution_count": 1,
   "metadata": {},
   "outputs": [
    {
     "name": "stdout",
     "output_type": "stream",
     "text": [
      "Please, enter first value: 2\n",
      "Please, enter second value: 3\n",
      "Please, enter operator: (+,-,*,/,**): **\n",
      "Ans: = 8.0\n"
     ]
    }
   ],
   "source": [
    "# 1\n",
    "n1 = float(input(\"Please, enter first value: \"))\n",
    "n2 = float(input(\"Please, enter second value: \"))\n",
    "op = input(\"Please, enter operator: (+,-,*,/,**): \")\n",
    "if (op == \"+\"):\n",
    "    ans = n1 + n2\n",
    "elif (op == \"-\"):\n",
    "    ans = n1 - n2\n",
    "elif (op == \"*\"):\n",
    "    ans = n1 * n2\n",
    "elif (op == \"/\"):\n",
    "    ans = n1 / n2\n",
    "elif (op == \"**\"):\n",
    "    ans = n1 ** n2\n",
    "else:\n",
    "    print(\"Invalid Input!\")\n",
    "print(\"Ans: = \" + str(ans))\n"
   ]
  },
  {
   "cell_type": "code",
   "execution_count": 2,
   "metadata": {},
   "outputs": [
    {
     "name": "stdout",
     "output_type": "stream",
     "text": [
      "There is a numeric value in the list!\n",
      "There is a numeric value in the list!\n"
     ]
    }
   ],
   "source": [
    "# 2\n",
    "a = [\"abc\",12, \"rdy\", \"34\", 56.8]\n",
    "for x in a:\n",
    "    if(type(x) is int or type(x) is float):\n",
    "        print(\"There is a numeric value in the list!\")"
   ]
  },
  {
   "cell_type": "code",
   "execution_count": 3,
   "metadata": {},
   "outputs": [
    {
     "name": "stdout",
     "output_type": "stream",
     "text": [
      "name yasir\n",
      "email yasirrais111@gmail.com\n",
      "id PY03409\n"
     ]
    }
   ],
   "source": [
    "# 3\n",
    "stundent_920948 = {\n",
    "    \"name\": \"yasir\",\n",
    "    \"email\": \"yasirrais111@gmail.com\"\n",
    "}\n",
    "\n",
    "stundent_920948[\"id\"] = \"PY03409\"\n",
    "\n",
    "for x, y in stundent_920948.items():\n",
    "    print(x, y)"
   ]
  },
  {
   "cell_type": "code",
   "execution_count": 4,
   "metadata": {},
   "outputs": [
    {
     "name": "stdout",
     "output_type": "stream",
     "text": [
      "Total =  382\n"
     ]
    }
   ],
   "source": [
    "# 4\n",
    "stundent_920948 = {\n",
    "    \"name\": \"yasir\",\n",
    "    \"email\": \"yasirrais111@gmail.com\",\n",
    "    \"english\": 78,\n",
    "    \"maths\": 76,\n",
    "    \"chemistry\": 76,\n",
    "    \"physics\": 72,\n",
    "    \"biology\": 80\n",
    "}\n",
    "\n",
    "stundent_920948[\"id\"] = \"PY03409\"\n",
    "total = 0\n",
    "for x in stundent_920948.values():\n",
    "    if type(x) is int:\n",
    "        total += x\n",
    "print(\"Total = \", total)"
   ]
  },
  {
   "cell_type": "code",
   "execution_count": 5,
   "metadata": {},
   "outputs": [
    {
     "name": "stdout",
     "output_type": "stream",
     "text": [
      "Duplicate values 1\n",
      "Duplicate values 3\n",
      "Duplicate values 2\n",
      "Duplicate values 6\n",
      "Duplicate values 5\n",
      "Duplicate values 9\n"
     ]
    }
   ],
   "source": [
    "# 5\n",
    "original = [1,3,2,9,3,4,2,5,6,7,6,8,5,9]\n",
    "new = [original[0]]\n",
    "duplicate = []\n",
    "f = False\n",
    "for x in original:\n",
    "    f = False\n",
    "    for y in new:\n",
    "        if (x == y):\n",
    "            f= True\n",
    "    if f:\n",
    "        duplicate.append(x)\n",
    "    else:\n",
    "        new.append(x)\n",
    "\n",
    "\n",
    "for x in duplicate:\n",
    "    print(\"Duplicate values\",x)"
   ]
  },
  {
   "cell_type": "code",
   "execution_count": 6,
   "metadata": {},
   "outputs": [
    {
     "name": "stdout",
     "output_type": "stream",
     "text": [
      "Enter any key to check existance: email\n",
      "The entered key [email] exists!\n"
     ]
    }
   ],
   "source": [
    "# 6\n",
    "stundent_920948 = {\n",
    "    \"id\": \"PY03409\",\n",
    "    \"name\": \"yasir\",\n",
    "    \"email\": \"yasirrais111@gmail.com\",\n",
    "    \"english\": 78,\n",
    "    \"maths\": 76,\n",
    "    \"chemistry\": 76,\n",
    "    \"physics\": 72,\n",
    "    \"biology\": 80\n",
    "}\n",
    "x = input(\"Enter any key to check existance: \")\n",
    "f = False\n",
    "for y in stundent_920948.keys():\n",
    "    if(x == y):\n",
    "        f = True\n",
    "if f:\n",
    "    print(\"The entered key [\"+ str(x) +\"] exists!\")\n",
    "else:\n",
    "    print(\"The entered key [\"+ str(x) +\"] does not exist!\")"
   ]
  }
 ],
 "metadata": {
  "kernelspec": {
   "display_name": "Python 3",
   "language": "python",
   "name": "python3"
  },
  "language_info": {
   "codemirror_mode": {
    "name": "ipython",
    "version": 3
   },
   "file_extension": ".py",
   "mimetype": "text/x-python",
   "name": "python",
   "nbconvert_exporter": "python",
   "pygments_lexer": "ipython3",
   "version": "3.7.4"
  }
 },
 "nbformat": 4,
 "nbformat_minor": 2
}
