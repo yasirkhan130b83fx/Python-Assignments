{
 "cells": [
  {
   "cell_type": "code",
   "execution_count": 3,
   "metadata": {},
   "outputs": [
    {
     "name": "stdout",
     "output_type": "stream",
     "text": [
      "{'first_name': 'Yasir', 'last_name': 'Khan', 'age': 23, 'city': 'karachi'}\n",
      "{'first_name': 'Yasir', 'last_name': 'Khan', 'age': 23, 'city': 'karachi', 'qualification': 'Inter'}\n",
      "{'first_name': 'Yasir', 'last_name': 'Khan', 'age': 23, 'city': 'karachi', 'qualification': 'BSCS'}\n",
      "{'first_name': 'Yasir', 'last_name': 'Khan', 'age': 23, 'city': 'karachi'}\n"
     ]
    }
   ],
   "source": [
    "#1\n",
    "student_29876 = {\n",
    "    \"first_name\": \"Yasir\",\n",
    "    \"last_name\": \"Khan\",\n",
    "    \"age\": 23,\n",
    "    \"city\": \"karachi\"\n",
    "}\n",
    "print(student_29876)\n",
    "student_29876[\"qualification\"] = \"Inter\"\n",
    "print(student_29876)\n",
    "student_29876[\"qualification\"] = \"BSCS\"\n",
    "print(student_29876)\n",
    "del student_29876[\"qualification\"]\n",
    "print(student_29876)"
   ]
  },
  {
   "cell_type": "code",
   "execution_count": 8,
   "metadata": {},
   "outputs": [
    {
     "name": "stdout",
     "output_type": "stream",
     "text": [
      "The Karachi city of Pakistan has a population of 14916456, and GDP = $114 billion\n",
      "The Tokyo city of Japan has a population of 13929286, and GDP = US$869 billion\n",
      "The London city of United Kingdom has a population of 8908081, and GDP = $575 billion\n"
     ]
    }
   ],
   "source": [
    "#2\n",
    "cities = {\n",
    "    \"karachi\": {\n",
    "        \"country\": \"pakistan\",\n",
    "        \"population\": 14916456,\n",
    "        \"fact\": \"GDP = $114 billion\"\n",
    "    },\n",
    "    \"tokyo\": {\n",
    "        \"country\": \"japan\",\n",
    "        \"population\": 13929286,\n",
    "        \"fact\": \"GDP = US$869 billion\"\n",
    "    },\n",
    "    \"london\": {\n",
    "        \"country\": \"united kingdom\",\n",
    "        \"population\": 8908081,\n",
    "        \"fact\": \"GDP = $575 billion\"\n",
    "    }\n",
    "}\n",
    "for x,y in cities.items():\n",
    "    print(f'The {x.title()} city of {y[\"country\"].title()} has a population of {y[\"population\"]}, and {y[\"fact\"]}')"
   ]
  },
  {
   "cell_type": "code",
   "execution_count": 13,
   "metadata": {},
   "outputs": [
    {
     "name": "stdout",
     "output_type": "stream",
     "text": [
      "Enter your age: 11\n",
      "The ticket is $10\n"
     ]
    }
   ],
   "source": [
    "#3\n",
    "age = int(input(\"Enter your age: \"))\n",
    "if age < 3:\n",
    "    print(\"The ticket is free.\")\n",
    "elif age >= 3 and age <= 12:\n",
    "    print(\"The ticket is $10.\")\n",
    "elif age > 12:\n",
    "    print(\"The ticket is $15.\")\n",
    "else:\n",
    "    print(\"Invalid Input.\")"
   ]
  },
  {
   "cell_type": "code",
   "execution_count": 14,
   "metadata": {},
   "outputs": [
    {
     "name": "stdout",
     "output_type": "stream",
     "text": [
      "One of my favorite books is Alice in Wonderland\n"
     ]
    }
   ],
   "source": [
    "#4\n",
    "def favorite_book(title):\n",
    "    print(f'One of my favorite books is {title}.')\n",
    "\n",
    "favorite_book(\"Alice in Wonderland\")"
   ]
  },
  {
   "cell_type": "code",
   "execution_count": 9,
   "metadata": {},
   "outputs": [
    {
     "name": "stdout",
     "output_type": "stream",
     "text": [
      "1) Guess the number: 20\n",
      "The number is greater.\n",
      "2) Guess the number: 30\n",
      "The number is smaller.\n",
      "3) Guess the number: 25\n",
      "The number is greater.\n"
     ]
    }
   ],
   "source": [
    "#5\n",
    "import random \n",
    "r = random.randint(0, 30)\n",
    "\n",
    "def guess_number(chance):\n",
    "    if chance < 4:\n",
    "        x = int(input(f'{chance}) Guess the number: '))\n",
    "        if x == r:\n",
    "            print(f'You have won the number is {r}.')\n",
    "        elif x < r:\n",
    "            print('The number is greater.')\n",
    "            guess_number(chance + 1)\n",
    "        elif x > r:\n",
    "            print('The number is smaller.')\n",
    "            guess_number(chance + 1)\n",
    "        \n",
    "guess_number(1)\n"
   ]
  }
 ],
 "metadata": {
  "kernelspec": {
   "display_name": "Python 3",
   "language": "python",
   "name": "python3"
  },
  "language_info": {
   "codemirror_mode": {
    "name": "ipython",
    "version": 3
   },
   "file_extension": ".py",
   "mimetype": "text/x-python",
   "name": "python",
   "nbconvert_exporter": "python",
   "pygments_lexer": "ipython3",
   "version": "3.7.4"
  }
 },
 "nbformat": 4,
 "nbformat_minor": 2
}
