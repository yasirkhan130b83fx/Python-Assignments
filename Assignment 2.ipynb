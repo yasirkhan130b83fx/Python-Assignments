{
 "cells": [
  {
   "cell_type": "code",
   "execution_count": 1,
   "metadata": {},
   "outputs": [
    {
     "name": "stdout",
     "output_type": "stream",
     "text": [
      "Please, Enter English Marks:\n"
     ]
    },
    {
     "ename": "ValueError",
     "evalue": "could not convert string to float: ",
     "output_type": "error",
     "traceback": [
      "\u001b[1;31m---------------------------------------------------------------------------\u001b[0m",
      "\u001b[1;31mValueError\u001b[0m                                Traceback (most recent call last)",
      "\u001b[1;32m<ipython-input-1-37add2d7f96e>\u001b[0m in \u001b[0;36m<module>\u001b[1;34m\u001b[0m\n\u001b[0;32m      3\u001b[0m \u001b[0mtotal\u001b[0m \u001b[1;33m=\u001b[0m \u001b[1;36m0\u001b[0m\u001b[1;33m\u001b[0m\u001b[1;33m\u001b[0m\u001b[0m\n\u001b[0;32m      4\u001b[0m \u001b[1;32mfor\u001b[0m \u001b[0mx\u001b[0m \u001b[1;32min\u001b[0m \u001b[0msubjects\u001b[0m\u001b[1;33m:\u001b[0m\u001b[1;33m\u001b[0m\u001b[1;33m\u001b[0m\u001b[0m\n\u001b[1;32m----> 5\u001b[1;33m     \u001b[0mtotal\u001b[0m \u001b[1;33m+=\u001b[0m \u001b[0mfloat\u001b[0m\u001b[1;33m(\u001b[0m\u001b[0minput\u001b[0m\u001b[1;33m(\u001b[0m\u001b[1;34m\"Please, Enter \"\u001b[0m\u001b[1;33m+\u001b[0m \u001b[0mx\u001b[0m \u001b[1;33m+\u001b[0m\u001b[1;34m\" Marks:\"\u001b[0m\u001b[1;33m)\u001b[0m\u001b[1;33m)\u001b[0m\u001b[1;33m\u001b[0m\u001b[1;33m\u001b[0m\u001b[0m\n\u001b[0m\u001b[0;32m      6\u001b[0m \u001b[0mprint\u001b[0m\u001b[1;33m(\u001b[0m\u001b[1;34mf'Total Marks Obtained: (Out of 500) = {total}'\u001b[0m\u001b[1;33m)\u001b[0m\u001b[1;33m\u001b[0m\u001b[1;33m\u001b[0m\u001b[0m\n\u001b[0;32m      7\u001b[0m \u001b[0mpercentage\u001b[0m \u001b[1;33m=\u001b[0m \u001b[0mtotal\u001b[0m \u001b[1;33m*\u001b[0m \u001b[1;36m0.2\u001b[0m\u001b[1;33m\u001b[0m\u001b[1;33m\u001b[0m\u001b[0m\n",
      "\u001b[1;31mValueError\u001b[0m: could not convert string to float: "
     ]
    }
   ],
   "source": [
    "# 1\n",
    "subjects = [\"English\", \"Maths\", \"Chemistry\", \"Physics\", \"Biology\"]\n",
    "total = 0\n",
    "for x in subjects:\n",
    "    total += float(input(\"Please, Enter \"+ x +\" Marks:\"))\n",
    "print(f'Total Marks Obtained: (Out of 500) = {total}')\n",
    "percentage = total * 0.2\n",
    "print(f'Percentage: = {percentage} %')\n",
    "if (percentage >= 80 and percentage <= 100):\n",
    "    grade = \"A+\"\n",
    "elif (percentage >= 70 and percentage < 80):\n",
    "    grade = \"A\"\n",
    "elif (percentage >= 60 and percentage < 70):\n",
    "    grade = \"B\"\n",
    "elif (percentage >= 50 and percentage < 60):\n",
    "    grade = \"C\"\n",
    "elif (percentage >= 0 and percentage < 50):\n",
    "    grade = \"F (Fail)\"\n",
    "else:\n",
    "    print(\"Invalid Input!\")\n",
    "print(\"Grade: = \" + grade)\n",
    "\n",
    "\n",
    "\n",
    "\n",
    "# 2\n",
    "n = int(input(\"Please enter an even or odd number: \"))\n",
    "if (n%2 == 0):\n",
    "    print(\"The number is even!\")\n",
    "else:\n",
    "    print(\"The number is odd!\")\n",
    "\n",
    "\n",
    "\n",
    "\n",
    "# 3\n",
    "cities = [\"Atlanta\", \"Baltimore\", \"Chicago\", \"Denver\", \"Los Angeles\", \"Seattle\"]\n",
    "print(f'Array length is = {len(cities)} ')\n",
    "\n",
    "\n",
    "# 4\n",
    "y = [32, 54, 18, 49, 63, 79]\n",
    "total = 0\n",
    "for x in y:\n",
    "    total += x\n",
    "print(f'Total of values in array is = {total}')\n",
    "\n",
    "\n",
    "\n",
    "# 5\n",
    "y = [32, 54, 18, 49, 63, 79]\n",
    "largest = y[0]\n",
    "for x in y:\n",
    "    if(x > largest):\n",
    "        largest = x\n",
    "print(f'largest value is = {largest}')\n",
    "\n",
    "\n",
    "\n",
    "\n",
    "# 6\n",
    "a = [1, 1, 2, 3, 5, 8, 13, 21, 34, 55, 89]\n",
    "print(\"Values Less than 5: \")\n",
    "for x in a:\n",
    "    if(x < 5):\n",
    "        print(str(x))\n"
   ]
  },
  {
   "cell_type": "code",
   "execution_count": null,
   "metadata": {},
   "outputs": [],
   "source": []
  }
 ],
 "metadata": {
  "kernelspec": {
   "display_name": "Python 3",
   "language": "python",
   "name": "python3"
  },
  "language_info": {
   "codemirror_mode": {
    "name": "ipython",
    "version": 3
   },
   "file_extension": ".py",
   "mimetype": "text/x-python",
   "name": "python",
   "nbconvert_exporter": "python",
   "pygments_lexer": "ipython3",
   "version": "3.7.4"
  }
 },
 "nbformat": 4,
 "nbformat_minor": 2
}
