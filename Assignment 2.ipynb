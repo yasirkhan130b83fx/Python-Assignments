{
 "cells": [
  {
   "cell_type": "code",
   "execution_count": 1,
   "metadata": {},
   "outputs": [
    {
     "name": "stdout",
     "output_type": "stream",
     "text": [
      "Please, Enter English Marks:54\n",
      "Please, Enter Maths Marks:67\n",
      "Please, Enter Chemistry Marks:45\n",
      "Please, Enter Physics Marks:78\n",
      "Please, Enter Biology Marks:67\n",
      "Total Marks Obtained: (Out of 500) = 311.0\n",
      "Percentage: = 62.2 %\n",
      "Grade: = B\n"
     ]
    }
   ],
   "source": [
    "# 1\n",
    "subjects = [\"English\", \"Maths\", \"Chemistry\", \"Physics\", \"Biology\"]\n",
    "total = 0\n",
    "for x in subjects:\n",
    "    total += float(input(\"Please, Enter \"+ x +\" Marks:\"))\n",
    "print(f'Total Marks Obtained: (Out of 500) = {total}')\n",
    "percentage = total * 0.2\n",
    "print(f'Percentage: = {percentage} %')\n",
    "if (percentage >= 80 and percentage <= 100):\n",
    "    grade = \"A+\"\n",
    "elif (percentage >= 70 and percentage < 80):\n",
    "    grade = \"A\"\n",
    "elif (percentage >= 60 and percentage < 70):\n",
    "    grade = \"B\"\n",
    "elif (percentage >= 50 and percentage < 60):\n",
    "    grade = \"C\"\n",
    "elif (percentage >= 0 and percentage < 50):\n",
    "    grade = \"F (Fail)\"\n",
    "else:\n",
    "    print(\"Invalid Input!\")\n",
    "print(\"Grade: = \" + grade)\n"
   ]
  },
  {
   "cell_type": "code",
   "execution_count": 2,
   "metadata": {},
   "outputs": [
    {
     "name": "stdout",
     "output_type": "stream",
     "text": [
      "Please enter an even or odd number: 24\n",
      "The number is even!\n"
     ]
    }
   ],
   "source": [
    "# 2\n",
    "n = int(input(\"Please enter an even or odd number: \"))\n",
    "if (n%2 == 0):\n",
    "    print(\"The number is even!\")\n",
    "else:\n",
    "    print(\"The number is odd!\")"
   ]
  },
  {
   "cell_type": "code",
   "execution_count": 3,
   "metadata": {},
   "outputs": [
    {
     "name": "stdout",
     "output_type": "stream",
     "text": [
      "Array length is = 6 \n"
     ]
    }
   ],
   "source": [
    "# 3\n",
    "cities = [\"Atlanta\", \"Baltimore\", \"Chicago\", \"Denver\", \"Los Angeles\", \"Seattle\"]\n",
    "print(f'Array length is = {len(cities)} ')"
   ]
  },
  {
   "cell_type": "code",
   "execution_count": 4,
   "metadata": {},
   "outputs": [
    {
     "name": "stdout",
     "output_type": "stream",
     "text": [
      "Total of values in array is = 295\n"
     ]
    }
   ],
   "source": [
    "# 4\n",
    "y = [32, 54, 18, 49, 63, 79]\n",
    "total = 0\n",
    "for x in y:\n",
    "    total += x\n",
    "print(f'Total of values in array is = {total}')"
   ]
  },
  {
   "cell_type": "code",
   "execution_count": 5,
   "metadata": {},
   "outputs": [
    {
     "name": "stdout",
     "output_type": "stream",
     "text": [
      "largest value is = 79\n"
     ]
    }
   ],
   "source": [
    "# 5\n",
    "y = [32, 54, 18, 49, 63, 79]\n",
    "largest = y[0]\n",
    "for x in y:\n",
    "    if(x > largest):\n",
    "        largest = x\n",
    "print(f'largest value is = {largest}')"
   ]
  },
  {
   "cell_type": "code",
   "execution_count": 6,
   "metadata": {},
   "outputs": [
    {
     "name": "stdout",
     "output_type": "stream",
     "text": [
      "Values Less than 5: \n",
      "1\n",
      "1\n",
      "2\n",
      "3\n"
     ]
    }
   ],
   "source": [
    "# 6\n",
    "a = [1, 1, 2, 3, 5, 8, 13, 21, 34, 55, 89]\n",
    "print(\"Values Less than 5: \")\n",
    "for x in a:\n",
    "    if(x < 5):\n",
    "        print(str(x))"
   ]
  }
 ],
 "metadata": {
  "kernelspec": {
   "display_name": "Python 3",
   "language": "python",
   "name": "python3"
  },
  "language_info": {
   "codemirror_mode": {
    "name": "ipython",
    "version": 3
   },
   "file_extension": ".py",
   "mimetype": "text/x-python",
   "name": "python",
   "nbconvert_exporter": "python",
   "pygments_lexer": "ipython3",
   "version": "3.7.4"
  }
 },
 "nbformat": 4,
 "nbformat_minor": 2
}
